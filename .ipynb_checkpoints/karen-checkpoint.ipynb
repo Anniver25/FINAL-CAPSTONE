{
 "cells": [
  {
   "cell_type": "code",
   "execution_count": null,
   "id": "6c7367c0",
   "metadata": {},
   "outputs": [],
   "source": [
    "import numpy as np\n",
    "import pandas as pd\n",
    "import scipy.stats as stats\n",
    "import statsmodels.api as sm\n",
    "import matplotlib.pyplot as plt\n",
    "import seaborn as sns\n",
    "from sklearn.preprocessing import StandardScaler"
   ]
  },
  {
   "cell_type": "code",
   "execution_count": null,
   "id": "44f11dc5",
   "metadata": {},
   "outputs": [],
   "source": [
    "# Load dataset\n",
    "df = pd.read_csv('s.csv')"
   ]
  },
  {
   "cell_type": "code",
   "execution_count": null,
   "id": "0799390c",
   "metadata": {},
   "outputs": [],
   "source": [
    "# Clean data - remove null values\n",
    "print(f\"Original data points: {len(df)}\")\n",
    "df_clean = df.dropna()\n",
    "print(f\"After cleaning: {len(df_clean)} points\")"
   ]
  },
  {
   "cell_type": "code",
   "execution_count": null,
   "id": "3b226ca8",
   "metadata": {},
   "outputs": [],
   "source": [
    "# Ensure there are enough records\n",
    "assert len(df_clean) >= 100, \"Dataset must have at least 100 points after cleaning\""
   ]
  },
  {
   "cell_type": "code",
   "execution_count": null,
   "id": "523ef77b",
   "metadata": {},
   "outputs": [],
   "source": [
    "# Optional: Remove outliers using z-score\n",
    "z_scores = stats.zscore(df_clean.select_dtypes(include=[np.number]))\n",
    "df_clean = df_clean[(np.abs(z_scores) < 3).all(axis=1)]\n",
    "print(f\"After outlier removal: {len(df_clean)} points\")"
   ]
  },
  {
   "cell_type": "code",
   "execution_count": null,
   "id": "41f67351",
   "metadata": {},
   "outputs": [],
   "source": [
    "# NumPy Operations\n",
    "print(\"\\nNumPy Operations:\")\n",
    "# 1. Mean, Median, Std of math score\n",
    "print(\"1. Math Score stats:\")\n",
    "print(f\"   Mean: {np.mean(df_clean['math score']):.2f}, Median: {np.median(df_clean['math score']):.2f}, Std: {np.std(df_clean['math score']):.2f}\")"
   ]
  },
  {
   "cell_type": "code",
   "execution_count": null,
   "id": "9fe34aad",
   "metadata": {},
   "outputs": [],
   "source": [
    "# 2. Normalize reading score\n",
    "scaler = StandardScaler()\n",
    "read_scaled = scaler.fit_transform(df_clean[['reading score']])\n",
    "print(\"2. Scaled Reading Scores (first 5):\", read_scaled[:5].flatten())"
   ]
  },
  {
   "cell_type": "code",
   "execution_count": null,
   "id": "b375c898",
   "metadata": {},
   "outputs": [],
   "source": [
    "# 3. Reshape a matrix\n",
    "matrix = df_clean[['math score', 'reading score']].values.reshape(-1, 2)\n",
    "print(\"3. Reshaped matrix shape:\", matrix.shape)"
   ]
  },
  {
   "cell_type": "code",
   "execution_count": null,
   "id": "d92f5785",
   "metadata": {},
   "outputs": [],
   "source": [
    "# 4. Log transformation of writing score (+1 to avoid log(0))\n",
    "log_write = np.log(df_clean['writing score'] + 1)\n",
    "print(\"4. Log Writing Score (first 5):\", log_write[:5].values)"
   ]
  },
  {
   "cell_type": "code",
   "execution_count": null,
   "id": "d7b5bc65",
   "metadata": {},
   "outputs": [],
   "source": [
    "# 5. Random sampling\n",
    "sample = df_clean.sample(5, random_state=42)\n",
    "print(\"5. Random Sample:\")\n",
    "print(sample[['gender', 'math score', 'reading score', 'writing score']])"
   ]
  },
  {
   "cell_type": "code",
   "execution_count": null,
   "id": "d7aa2eeb",
   "metadata": {},
   "outputs": [],
   "source": [
    "# SciPy: Pearson correlation between reading and writing scores\n",
    "r, p = stats.pearsonr(df_clean['reading score'], df_clean['writing score'])\n",
    "print(f\"\\nSciPy Correlation (Reading vs Writing): r = {r:.3f}, p = {p:.4f}\")"
   ]
  },
  {
   "cell_type": "code",
   "execution_count": null,
   "id": "9deabf3b",
   "metadata": {},
   "outputs": [],
   "source": [
    "# Statsmodels: OLS Regression - Predict writing score using reading score\n",
    "X = sm.add_constant(df_clean['reading score'])\n",
    "y = df_clean['writing score']\n",
    "model = sm.OLS(y, X).fit()\n",
    "print(\"\\nStatsmodels OLS Summary:\")\n",
    "print(model.summary())"
   ]
  },
  {
   "cell_type": "code",
   "execution_count": null,
   "id": "5eeca8ee",
   "metadata": {},
   "outputs": [],
   "source": [
    "# Visualization 1: Histogram of Math Score\n",
    "plt.figure(figsize=(8,6))\n",
    "sns.histplot(df_clean['math score'], kde=True, bins=20)\n",
    "plt.title('Distribution of Math Scores')\n",
    "plt.xlabel('Math Score')\n",
    "plt.ylabel('Frequency')\n",
    "plt.show()"
   ]
  },
  {
   "cell_type": "code",
   "execution_count": null,
   "id": "0a5c7634",
   "metadata": {},
   "outputs": [],
   "source": [
    "# Visualization 2: Boxplot of Scores by Gender\n",
    "plt.figure(figsize=(10,6))\n",
    "sns.boxplot(x='gender', y='math score', data=df_clean)\n",
    "plt.title('Math Score by Gender')\n",
    "plt.show()"
   ]
  },
  {
   "cell_type": "code",
   "execution_count": null,
   "id": "7e7b8c91",
   "metadata": {},
   "outputs": [],
   "source": [
    "# Bonus Visualization: Pairplot of scores\n",
    "sns.pairplot(df_clean[['math score', 'reading score', 'writing score']])\n",
    "plt.suptitle('Pairwise Relationships between Scores', y=1.02)\n",
    "plt.show()"
   ]
  },
  {
   "cell_type": "code",
   "execution_count": null,
   "id": "63c98b38",
   "metadata": {},
   "outputs": [],
   "source": [
    "# Correlation plot: Reading vs Writing Score\n",
    "plt.figure(figsize=(8,6))\n",
    "sns.regplot(x='reading score', y='writing score', data=df_clean,\n",
    "            scatter_kws={'alpha':0.5}, line_kws={'color':'red'})\n",
    "plt.title('Reading Score vs Writing Score')\n",
    "plt.xlabel('Reading Score')\n",
    "plt.ylabel('Writing Score')\n",
    "plt.show()"
   ]
  }
 ],
 "metadata": {
  "jupytext": {
   "cell_metadata_filter": "-all",
   "main_language": "python",
   "notebook_metadata_filter": "-all"
  }
 },
 "nbformat": 4,
 "nbformat_minor": 5
}
