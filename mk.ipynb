{
 "cells": [
  {
   "cell_type": "code",
   "execution_count": null,
   "id": "6ed3652f",
   "metadata": {},
   "outputs": [],
   "source": [
    "import numpy as np\n",
    "import pandas as pd\n",
    "import matplotlib.pyplot as plt\n",
    "import seaborn as sns\n",
    "import scipy.stats as stats\n",
    "import statsmodels.api as sm\n",
    "from sklearn.preprocessing import StandardScaler"
   ]
  },
  {
   "cell_type": "code",
   "execution_count": null,
   "id": "a2997753",
   "metadata": {},
   "outputs": [],
   "source": [
    "# Load the data\n",
    "df = pd.read_csv(\"m.csv\")"
   ]
  },
  {
   "cell_type": "code",
   "execution_count": null,
   "id": "b2074903",
   "metadata": {},
   "outputs": [],
   "source": [
    "# Clean data\n",
    "print(f\"Original rows: {len(df)}\")\n",
    "df_clean = df.dropna(subset=[\"popularity\", \"vote_average\", \"budget\", \"revenue\", \"genres\"])\n",
    "print(f\"After cleaning: {len(df_clean)} rows\")"
   ]
  },
  {
   "cell_type": "code",
   "execution_count": null,
   "id": "c2a72b15",
   "metadata": {},
   "outputs": [],
   "source": [
    "# Remove outliers using Z-score\n",
    "z_scores = stats.zscore(df_clean[[\"popularity\", \"vote_average\", \"budget\", \"revenue\"]])\n",
    "df_clean = df_clean[(np.abs(z_scores) < 3).all(axis=1)]\n",
    "print(f\"After outlier removal: {len(df_clean)} rows\")"
   ]
  },
  {
   "cell_type": "code",
   "execution_count": null,
   "id": "81f68206",
   "metadata": {},
   "outputs": [],
   "source": [
    "# NumPy stats\n",
    "print(\"\\nNumPy Stats:\")\n",
    "print(f\"Mean popularity: {np.mean(df_clean['popularity']):.2f}\")\n",
    "print(f\"Median vote average: {np.median(df_clean['vote_average']):.2f}\")\n",
    "print(f\"Std of revenue: {np.std(df_clean['revenue']):,.0f}\")"
   ]
  },
  {
   "cell_type": "code",
   "execution_count": null,
   "id": "5f1fa49c",
   "metadata": {},
   "outputs": [],
   "source": [
    "# Scaled budget\n",
    "scaler = StandardScaler()\n",
    "scaled_budget = scaler.fit_transform(df_clean[['budget']])\n",
    "print(\"\\nScaled Budget (first 5):\", scaled_budget[:5].flatten())"
   ]
  },
  {
   "cell_type": "code",
   "execution_count": null,
   "id": "08d8fb3d",
   "metadata": {},
   "outputs": [],
   "source": [
    "# Log transform revenue\n",
    "log_revenue = np.log1p(df_clean['revenue'])\n",
    "print(\"\\nLog Revenue (first 5):\", log_revenue.head().values)"
   ]
  },
  {
   "cell_type": "code",
   "execution_count": null,
   "id": "6a285139",
   "metadata": {},
   "outputs": [],
   "source": [
    "# Random sample\n",
    "print(\"\\nRandom Sample:\")\n",
    "print(df_clean[['title', 'popularity', 'vote_average']].sample(5, random_state=1))"
   ]
  },
  {
   "cell_type": "code",
   "execution_count": null,
   "id": "615f1517",
   "metadata": {},
   "outputs": [],
   "source": [
    "# Pearson correlation\n",
    "r, p = stats.pearsonr(df_clean['budget'], df_clean['revenue'])\n",
    "print(f\"\\nBudget vs Revenue Correlation: r = {r:.3f}, p = {p:.4f}\")"
   ]
  },
  {
   "cell_type": "code",
   "execution_count": null,
   "id": "4b8b9f29",
   "metadata": {},
   "outputs": [],
   "source": [
    "# OLS Regression\n",
    "X = sm.add_constant(df_clean['budget'])\n",
    "y = df_clean['revenue']\n",
    "model = sm.OLS(y, X).fit()\n",
    "print(\"\\nOLS Regression Summary:\")\n",
    "print(model.summary())"
   ]
  },
  {
   "cell_type": "code",
   "execution_count": null,
   "id": "a9c8fc05",
   "metadata": {},
   "outputs": [],
   "source": [
    "# Visualization 1: Popularity distribution\n",
    "plt.figure(figsize=(8,6))\n",
    "sns.histplot(df_clean['popularity'], kde=True, bins=30)\n",
    "plt.title(\"Popularity Distribution\")\n",
    "plt.xlabel(\"Popularity\")\n",
    "plt.ylabel(\"Frequency\")\n",
    "plt.show()"
   ]
  },
  {
   "cell_type": "code",
   "execution_count": null,
   "id": "e6a342e1",
   "metadata": {},
   "outputs": [],
   "source": [
    "# Visualization 2: Revenue vs Budget regression\n",
    "plt.figure(figsize=(8,6))\n",
    "sns.regplot(x='budget', y='revenue', data=df_clean, scatter_kws={'alpha':0.5}, line_kws={'color':'red'})\n",
    "plt.title(\"Revenue vs Budget\")\n",
    "plt.xlabel(\"Budget\")\n",
    "plt.ylabel(\"Revenue\")\n",
    "plt.show()"
   ]
  },
  {
   "cell_type": "code",
   "execution_count": null,
   "id": "5f31ecdd",
   "metadata": {},
   "outputs": [],
   "source": [
    "# Visualization 3: Boxplot of vote_average by movie type\n",
    "plt.figure(figsize=(8,6))\n",
    "sns.boxplot(x='type', y='vote_average', data=df_clean)\n",
    "plt.title(\"Vote Average by Movie Type\")\n",
    "plt.show()"
   ]
  },
  {
   "cell_type": "code",
   "execution_count": null,
   "id": "25626e05",
   "metadata": {},
   "outputs": [],
   "source": [
    "# Visualization 4: Top 10 genres by avg popularity\n",
    "from collections import defaultdict\n",
    "genre_popularity = defaultdict(list)\n",
    "for _, row in df_clean.iterrows():\n",
    "    for genre in row['genres'].split(', '):\n",
    "        genre_popularity[genre].append(row['popularity'])"
   ]
  },
  {
   "cell_type": "code",
   "execution_count": null,
   "id": "5b9e3269",
   "metadata": {},
   "outputs": [],
   "source": [
    "genre_avg = pd.DataFrame([\n",
    "    (g, np.mean(v)) for g, v in genre_popularity.items()\n",
    "], columns=['Genre', 'Avg Popularity']).sort_values(by='Avg Popularity', ascending=False)"
   ]
  },
  {
   "cell_type": "code",
   "execution_count": null,
   "id": "c1af01a0",
   "metadata": {},
   "outputs": [],
   "source": [
    "plt.figure(figsize=(10,6))\n",
    "sns.barplot(x='Avg Popularity', y='Genre', data=genre_avg.head(10))\n",
    "plt.title(\"Top 10 Genres by Average Popularity\")\n",
    "plt.show()"
   ]
  },
  {
   "cell_type": "code",
   "execution_count": null,
   "id": "f1d84fb3",
   "metadata": {},
   "outputs": [],
   "source": [
    "# Visualization 5: Correlation heatmap\n",
    "plt.figure(figsize=(8,6))\n",
    "sns.heatmap(df_clean[['popularity', 'vote_average', 'budget', 'revenue']].corr(), annot=True, cmap='coolwarm')\n",
    "plt.title(\"Correlation Heatmap\")\n",
    "plt.show()"
   ]
  }
 ],
 "metadata": {
  "jupytext": {
   "cell_metadata_filter": "-all",
   "main_language": "python",
   "notebook_metadata_filter": "-all"
  }
 },
 "nbformat": 4,
 "nbformat_minor": 5
}
